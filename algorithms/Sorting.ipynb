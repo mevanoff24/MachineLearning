{
 "cells": [
  {
   "cell_type": "markdown",
   "metadata": {},
   "source": [
    "### Merge Sort"
   ]
  },
  {
   "cell_type": "code",
   "execution_count": 6,
   "metadata": {
    "collapsed": false
   },
   "outputs": [
    {
     "name": "stdout",
     "output_type": "stream",
     "text": [
      "[2, 2, 3, 3, 3, 4, 4, 5, 8, 8, 9]\n"
     ]
    }
   ],
   "source": [
    "def merge_sort(array):\n",
    "    \n",
    "    if len(array) <= 1:\n",
    "        return array\n",
    "    \n",
    "    middle_index = len(array) // 2\n",
    "    \n",
    "    left = merge_sort(array[:middle_index])\n",
    "    right = merge_sort(array[middle_index:])\n",
    "    \n",
    "    return merge(left, right)\n",
    "\n",
    "def merge(left, right):\n",
    "    \n",
    "    if not left:\n",
    "        return right\n",
    "    if not right:\n",
    "        return left\n",
    "    \n",
    "    if left[0] < right[0]:\n",
    "        return [left[0]] + merge(left[1:], right)\n",
    "    else:\n",
    "        return [right[0]] + merge(left, right[1:])\n",
    "    \n",
    "data = [3,4,2,5,8,2,9,3,8,3,4]\n",
    "\n",
    "print merge_sort(data)"
   ]
  },
  {
   "cell_type": "markdown",
   "metadata": {},
   "source": [
    "### Quick Sort"
   ]
  },
  {
   "cell_type": "code",
   "execution_count": 25,
   "metadata": {
    "collapsed": false
   },
   "outputs": [
    {
     "name": "stdout",
     "output_type": "stream",
     "text": [
      "[2, 2, 3, 3, 3, 4, 4, 5, 8, 8, 9]\n"
     ]
    }
   ],
   "source": [
    "def partition(array, begin, end):\n",
    "    pivot = begin\n",
    "    for i in xrange(begin+1, end+1):\n",
    "        if array[i] <= array[begin]:\n",
    "            pivot += 1\n",
    "            array[i], array[pivot] = array[pivot], array[i]\n",
    "    array[pivot], array[begin] = array[begin], array[pivot]\n",
    "    return pivot\n",
    "\n",
    "\n",
    "def quicksort(array, begin=0, end=None):\n",
    "    if end is None:\n",
    "        end = len(array) - 1\n",
    "    if begin >= end:\n",
    "        return\n",
    "    pivot = partition(array, begin, end)\n",
    "    quicksort(array, begin, pivot-1)\n",
    "    quicksort(array, pivot+1, end)\n",
    "    return array\n",
    "    \n",
    "data = [3,4,2,5,8,2,9,3,8,3,4]\n",
    "print quicksort(data)"
   ]
  },
  {
   "cell_type": "code",
   "execution_count": 29,
   "metadata": {
    "collapsed": false
   },
   "outputs": [
    {
     "name": "stdout",
     "output_type": "stream",
     "text": [
      "[2, 2, 3, 3, 3, 4, 4, 5, 8, 8, 9]\n"
     ]
    }
   ],
   "source": [
    "def quick_sort_out_of_place(array):\n",
    "    \n",
    "    less = []\n",
    "    equal = []\n",
    "    greater = []\n",
    "    \n",
    "    if len(array) > 1:\n",
    "        pivot = array[0]\n",
    "        for i in array:\n",
    "            if i < pivot:\n",
    "                less.append(i)\n",
    "            if i == pivot:\n",
    "                equal.append(i)\n",
    "            if i > pivot:\n",
    "                greater.append(i)\n",
    "        return quick_sort_out_of_place(less) + equal + quick_sort_out_of_place(greater)\n",
    "    else:\n",
    "        return array\n",
    "    \n",
    "data = [3,4,2,5,8,2,9,3,8,3,4]    \n",
    "print quick_sort_out_of_place(data)"
   ]
  },
  {
   "cell_type": "code",
   "execution_count": null,
   "metadata": {
    "collapsed": true
   },
   "outputs": [],
   "source": []
  }
 ],
 "metadata": {
  "kernelspec": {
   "display_name": "Python 2",
   "language": "python",
   "name": "python2"
  },
  "language_info": {
   "codemirror_mode": {
    "name": "ipython",
    "version": 2
   },
   "file_extension": ".py",
   "mimetype": "text/x-python",
   "name": "python",
   "nbconvert_exporter": "python",
   "pygments_lexer": "ipython2",
   "version": "2.7.11"
  }
 },
 "nbformat": 4,
 "nbformat_minor": 0
}
