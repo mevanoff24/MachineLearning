{
 "cells": [
  {
   "cell_type": "markdown",
   "metadata": {},
   "source": [
    "### Binary Search (Recursion)"
   ]
  },
  {
   "cell_type": "code",
   "execution_count": 32,
   "metadata": {
    "collapsed": false
   },
   "outputs": [
    {
     "name": "stdout",
     "output_type": "stream",
     "text": [
      "True\n",
      "False\n"
     ]
    }
   ],
   "source": [
    "def binary_search_recursion(data, target, first, last):\n",
    "    \n",
    "    if first > last:\n",
    "        return False\n",
    "    \n",
    "    middle_index = ((first + last) // 2)\n",
    "    \n",
    "    if data[middle_index] == target:\n",
    "        return True\n",
    "    if data[middle_index] > target:\n",
    "        return binary_search_recursion(data, target, first, middle_index - 1)\n",
    "    else:\n",
    "        return binary_search_recursion(data, target, middle_index + 1, last)    \n",
    "    return True\n",
    "\n",
    "\n",
    "   \n",
    "data = [1,2,3,5,7,9,12]\n",
    "print binary_search_recursion(data, 12, 0, len(data)-1)\n",
    "print binary_search_recursion(data, 10, 0, len(data)-1)"
   ]
  },
  {
   "cell_type": "markdown",
   "metadata": {},
   "source": [
    "### Binary Search (Iterative)"
   ]
  },
  {
   "cell_type": "code",
   "execution_count": 34,
   "metadata": {
    "collapsed": false
   },
   "outputs": [
    {
     "name": "stdout",
     "output_type": "stream",
     "text": [
      "True\n",
      "False\n"
     ]
    }
   ],
   "source": [
    "def binary_search_iterative(data, target):\n",
    "    \n",
    "    low = 0\n",
    "    high = len(data) - 1\n",
    "    \n",
    "    while high >= low:\n",
    "        \n",
    "        middle_index = ((low + high) // 2)\n",
    "        \n",
    "        if data[middle_index] == target:\n",
    "            return True\n",
    "        if data[middle_index] > target:\n",
    "            high = middle_index - 1\n",
    "        else:\n",
    "            low = middle_index + 1\n",
    "            \n",
    "    return False\n",
    "\n",
    "data = [1,2,3,5,7,9,12]\n",
    "print binary_search_iterative(data, 3)\n",
    "print binary_search_iterative(data, 4)\n",
    "                        "
   ]
  },
  {
   "cell_type": "markdown",
   "metadata": {},
   "source": [
    "### Get Rich"
   ]
  },
  {
   "cell_type": "code",
   "execution_count": 36,
   "metadata": {
    "collapsed": false
   },
   "outputs": [
    {
     "name": "stdout",
     "output_type": "stream",
     "text": [
      "6\n"
     ]
    }
   ],
   "source": [
    "def get_rich(stock_prices):\n",
    "    \n",
    "    min_price = stock_prices[0] \n",
    "    max_profit = stock_prices[1] - stock_prices[0]\n",
    "    \n",
    "    for current in stock_prices:\n",
    "        \n",
    "        potential_profit = current - min_price\n",
    "        \n",
    "        max_profit = max(max_profit, potential_profit)\n",
    "        \n",
    "        min_price = min(min_price, current)\n",
    "        \n",
    "    return max_profit\n",
    "        \n",
    "   \n",
    "stock_prices_yesterday = [10, 7, 5, 8, 11, 9]\n",
    "print get_rich(stock_prices_yesterday)"
   ]
  },
  {
   "cell_type": "markdown",
   "metadata": {},
   "source": [
    "### Binary Search Tree"
   ]
  },
  {
   "cell_type": "code",
   "execution_count": null,
   "metadata": {
    "collapsed": true
   },
   "outputs": [],
   "source": []
  }
 ],
 "metadata": {
  "kernelspec": {
   "display_name": "Python 2",
   "language": "python",
   "name": "python2"
  },
  "language_info": {
   "codemirror_mode": {
    "name": "ipython",
    "version": 2
   },
   "file_extension": ".py",
   "mimetype": "text/x-python",
   "name": "python",
   "nbconvert_exporter": "python",
   "pygments_lexer": "ipython2",
   "version": "2.7.11"
  }
 },
 "nbformat": 4,
 "nbformat_minor": 0
}
