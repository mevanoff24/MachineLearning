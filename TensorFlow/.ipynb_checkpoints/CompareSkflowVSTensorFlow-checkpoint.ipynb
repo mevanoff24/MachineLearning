{
 "cells": [
  {
   "cell_type": "markdown",
   "metadata": {},
   "source": [
    "# Compare TensorFlow with Skflow\n",
    "## Linear and Logistic Regression"
   ]
  },
  {
   "cell_type": "code",
   "execution_count": 1,
   "metadata": {
    "collapsed": false
   },
   "outputs": [],
   "source": [
    "import tensorflow as tf\n",
    "import skflow\n",
    "from sklearn.datasets import make_regression, make_classification\n",
    "import numpy as np\n",
    "import matplotlib.pyplot as plt\n",
    "%matplotlib inline"
   ]
  },
  {
   "cell_type": "markdown",
   "metadata": {},
   "source": [
    "# Regression"
   ]
  },
  {
   "cell_type": "markdown",
   "metadata": {},
   "source": [
    "## Create Data"
   ]
  },
  {
   "cell_type": "code",
   "execution_count": 2,
   "metadata": {
    "collapsed": false
   },
   "outputs": [
    {
     "data": {
      "image/png": "[encoded data removed]",
      "text/plain": [
       "<matplotlib.figure.Figure at 0x104760dd0>"
      ]
     },
     "metadata": {},
     "output_type": "display_data"
    }
   ],
   "source": [
    "X_train, y_train = make_regression(n_samples=100, n_features = 1, noise = 30)\n",
    "n_samples = X_train.shape[0]\n",
    "\n",
    "plt.plot(X_train, y_train, 'o')\n",
    "plt.show()"
   ]
  },
  {
   "cell_type": "markdown",
   "metadata": {},
   "source": [
    "## TensorFlow"
   ]
  },
  {
   "cell_type": "code",
   "execution_count": 3,
   "metadata": {
    "collapsed": false
   },
   "outputs": [],
   "source": [
    "# create placeholders\n",
    "X = tf.placeholder(\"float\")\n",
    "Y = tf.placeholder(\"float\")\n",
    "# create weights\n",
    "W = tf.Variable(np.random.randn(), name=\"weight\")\n",
    "b = tf.Variable(np.random.randn(), name=\"bias\")\n",
    "# create model\n",
    "activation = tf.add(tf.mul(X, W), b)\n",
    "\n",
    "# cost function\n",
    "cost = tf.reduce_sum(tf.pow(activation - Y, 2))/(2*n_samples)\n",
    "# train model\n",
    "optimizer = tf.train.GradientDescentOptimizer(0.01).minimize(cost)"
   ]
  },
  {
   "cell_type": "code",
   "execution_count": null,
   "metadata": {
    "collapsed": false
   },
   "outputs": [
    {
     "name": "stdout",
     "output_type": "stream",
     "text": [
      "Iteration = 1, Cost = 119711.5, W = 0.80772870779, B = -1.29368770123\n",
      "Iteration = 51, Cost = 136931.8125, W = 16.4382362366, B = -1.91555392742\n",
      "Iteration = 101, Cost = 158537.6875, W = 24.5337524414, B = -1.82099413872\n",
      "Iteration = 151, Cost = 173135.078125, W = 28.7392921448, B = -1.51897907257\n",
      "Iteration = 201, Cost = 181648.859375, W = 30.9315719604, B = -1.20849275589"
     ]
    }
   ],
   "source": [
    "init = tf.initialize_all_variables()\n",
    "\n",
    "with tf.Session() as sess:\n",
    "    sess.run(init)\n",
    "    \n",
    "    for i in range(1000):\n",
    "        # fit \n",
    "        for (x, y) in zip(X_train, y_train):\n",
    "            sess.run(optimizer, feed_dict={X: x, Y: y})\n",
    "        # print \n",
    "        if i % 50 == 0:\n",
    "            print 'Iteration = {}, Cost = {}, W = {}, B = {}'.format(i+1, sess.run(cost, \n",
    "                                                                                   feed_dict = {X:X_train, Y:y_train}),\n",
    "                                                                                    sess.run(W), sess.run(b))\n",
    "    print 'Finshed'\n",
    "    print 'Iteration = {}, Cost = {}, W = {}, B = {}'.format(i+1, sess.run(cost, \n",
    "                                                                           feed_dict = {X:X_train, Y:y_train}),\n",
    "                                                                            sess.run(W), sess.run(b))\n",
    "    # plot data\n",
    "    plt.plot(X_train, y_train, 'o')\n",
    "    plt.plot(X_train, sess.run(W) * X_train + sess.run(b), label = 'fitted line')\n",
    "    plt.legend()\n",
    "    plt.show()"
   ]
  },
  {
   "cell_type": "markdown",
   "metadata": {},
   "source": [
    "## Skflow"
   ]
  },
  {
   "cell_type": "code",
   "execution_count": 11,
   "metadata": {
    "collapsed": false
   },
   "outputs": [
    {
     "name": "stdout",
     "output_type": "stream",
     "text": [
      "Step #1, avg. loss: 1661.48303\n",
      "Step #501, epoch #50, avg. loss: 4822.84180\n",
      "Step #1001, epoch #100, avg. loss: 2424.29761\n",
      "Step #1501, epoch #150, avg. loss: 1103.86316\n",
      "Step #2001, epoch #200, avg. loss: 705.70135\n",
      "Step #2501, epoch #250, avg. loss: 676.10223\n",
      "Step #3001, epoch #300, avg. loss: 676.14386\n",
      "Step #3501, epoch #350, avg. loss: 673.04773\n",
      "Step #4001, epoch #400, avg. loss: 675.08185\n",
      "Step #4501, epoch #450, avg. loss: 674.89124\n"
     ]
    },
    {
     "data": {
      "image/png": "[encoded data removed]",
      "text/plain": [
       "<matplotlib.figure.Figure at 0x10d772a50>"
      ]
     },
     "metadata": {},
     "output_type": "display_data"
    }
   ],
   "source": [
    "regressor = skflow.TensorFlowLinearRegressor(batch_size = 10, steps = 5000, learning_rate = 0.01)\n",
    "regressor.fit(X_train, y_train)\n",
    "\n",
    "plt.plot(X_train, y_train, 'o')\n",
    "plt.plot(X_train, regressor.predict(X_train), label = 'fitted line')\n",
    "plt.legend()\n",
    "plt.show()"
   ]
  },
  {
   "cell_type": "markdown",
   "metadata": {},
   "source": [
    "# Classification"
   ]
  },
  {
   "cell_type": "markdown",
   "metadata": {},
   "source": [
    "## Get The Data"
   ]
  },
  {
   "cell_type": "code",
   "execution_count": 54,
   "metadata": {
    "collapsed": false
   },
   "outputs": [
    {
     "data": {
      "text/html": [
       "<div>\n",
       "<table border=\"1\" class=\"dataframe\">\n",
       "  <thead>\n",
       "    <tr style=\"text-align: right;\">\n",
       "      <th></th>\n",
       "      <th>Sepal Length</th>\n",
       "      <th>Sepal Width</th>\n",
       "      <th>Petal Length</th>\n",
       "      <th>Petal Width</th>\n",
       "      <th>target</th>\n",
       "      <th>one_hot</th>\n",
       "    </tr>\n",
       "  </thead>\n",
       "  <tbody>\n",
       "    <tr>\n",
       "      <th>0</th>\n",
       "      <td>5.1</td>\n",
       "      <td>3.5</td>\n",
       "      <td>1.4</td>\n",
       "      <td>0.2</td>\n",
       "      <td>setosa</td>\n",
       "      <td>[1.0, 0.0, 0.0]</td>\n",
       "    </tr>\n",
       "    <tr>\n",
       "      <th>1</th>\n",
       "      <td>4.9</td>\n",
       "      <td>3.0</td>\n",
       "      <td>1.4</td>\n",
       "      <td>0.2</td>\n",
       "      <td>setosa</td>\n",
       "      <td>[1.0, 0.0, 0.0]</td>\n",
       "    </tr>\n",
       "    <tr>\n",
       "      <th>2</th>\n",
       "      <td>4.7</td>\n",
       "      <td>3.2</td>\n",
       "      <td>1.3</td>\n",
       "      <td>0.2</td>\n",
       "      <td>setosa</td>\n",
       "      <td>[1.0, 0.0, 0.0]</td>\n",
       "    </tr>\n",
       "    <tr>\n",
       "      <th>3</th>\n",
       "      <td>4.6</td>\n",
       "      <td>3.1</td>\n",
       "      <td>1.5</td>\n",
       "      <td>0.2</td>\n",
       "      <td>setosa</td>\n",
       "      <td>[1.0, 0.0, 0.0]</td>\n",
       "    </tr>\n",
       "    <tr>\n",
       "      <th>4</th>\n",
       "      <td>5.0</td>\n",
       "      <td>3.6</td>\n",
       "      <td>1.4</td>\n",
       "      <td>0.2</td>\n",
       "      <td>setosa</td>\n",
       "      <td>[1.0, 0.0, 0.0]</td>\n",
       "    </tr>\n",
       "  </tbody>\n",
       "</table>\n",
       "</div>"
      ],
      "text/plain": [
       "   Sepal Length  Sepal Width  Petal Length  Petal Width  target  \\\n",
       "0           5.1          3.5           1.4          0.2  setosa   \n",
       "1           4.9          3.0           1.4          0.2  setosa   \n",
       "2           4.7          3.2           1.3          0.2  setosa   \n",
       "3           4.6          3.1           1.5          0.2  setosa   \n",
       "4           5.0          3.6           1.4          0.2  setosa   \n",
       "\n",
       "           one_hot  \n",
       "0  [1.0, 0.0, 0.0]  \n",
       "1  [1.0, 0.0, 0.0]  \n",
       "2  [1.0, 0.0, 0.0]  \n",
       "3  [1.0, 0.0, 0.0]  \n",
       "4  [1.0, 0.0, 0.0]  "
      ]
     },
     "execution_count": 54,
     "metadata": {},
     "output_type": "execute_result"
    }
   ],
   "source": [
    "from sklearn.datasets import load_iris\n",
    "from sklearn.cross_validation import train_test_split\n",
    "import pandas as pd\n",
    "\n",
    "keys = ['Sepal Length', 'Sepal Width','Petal Length', 'Petal Width']\n",
    "\n",
    "dat = pd.DataFrame(load_iris().data)\n",
    "dat.columns = keys\n",
    "dat['target'] = load_iris().target\n",
    "\n",
    "d = {0: 'setosa', 1: 'versicolor', 2: 'virginica'}\n",
    "dat['target'] = dat.target.map(d)\n",
    "\n",
    "species = list(dat['target'].unique())\n",
    "dat['one_hot'] = dat.target.map(lambda x: np.eye(len(species))[species.index(x)])\n",
    "dat.head()"
   ]
  },
  {
   "cell_type": "code",
   "execution_count": 55,
   "metadata": {
    "collapsed": false
   },
   "outputs": [],
   "source": [
    "train, test = train_test_split(dat, test_size = 50)"
   ]
  },
  {
   "cell_type": "markdown",
   "metadata": {},
   "source": [
    "## TensorFlow"
   ]
  },
  {
   "cell_type": "code",
   "execution_count": 67,
   "metadata": {
    "collapsed": false
   },
   "outputs": [],
   "source": [
    "n_features = 4\n",
    "n_classes = 3\n",
    "\n",
    "X = tf.placeholder(tf.float32, shape = [None, n_features])\n",
    "Y = tf.placeholder(tf.float32, shape = [None, n_classes])\n",
    "\n",
    "W = tf.Variable(tf.zeros([n_features, n_classes]))\n",
    "b = tf.Variable(tf.zeros([n_classes]))\n",
    "\n",
    "activation = tf.nn.softmax(tf.matmul(X, W) + b)\n",
    "cost = -tf.reduce_sum(Y * tf.log(activation))\n",
    "\n",
    "optimizer = tf.train.AdamOptimizer(0.01).minimize(cost)\n",
    "\n",
    "correct_prediction = tf.equal(tf.argmax(activation, 1), tf.argmax(Y, 1))\n",
    "accuracy = tf.reduce_mean(tf.cast(correct_prediction, 'float'))"
   ]
  },
  {
   "cell_type": "code",
   "execution_count": 69,
   "metadata": {
    "collapsed": false
   },
   "outputs": [
    {
     "name": "stdout",
     "output_type": "stream",
     "text": [
      " accuracy 1.0\n"
     ]
    }
   ],
   "source": [
    "init = tf.initialize_all_variables()\n",
    "\n",
    "with tf.Session() as sess:\n",
    "    sess.run(init)\n",
    "    \n",
    "    for i in range(1000):\n",
    "        batch = train.sample(50)\n",
    "        sess.run(optimizer, feed_dict = {X : [x for x in train[keys].values],\n",
    "                                        Y : [x for x in train['one_hot'].as_matrix()]})\n",
    "        \n",
    "    print 'accuracy', sess.run(accuracy, feed_dict = {X : [x for x in test[keys].values],\n",
    "                                                     Y : [x for x in test['one_hot'].values]})\n",
    "        "
   ]
  },
  {
   "cell_type": "code",
   "execution_count": 85,
   "metadata": {
    "collapsed": false
   },
   "outputs": [
    {
     "name": "stdout",
     "output_type": "stream",
     "text": [
      "Classified as [ 1.  0.  0.]\n"
     ]
    }
   ],
   "source": [
    "def classify(pred):\n",
    "    with tf.Session() as sess:\n",
    "        sess.run(init)\n",
    "        dim = Y.get_shape().as_list()[1]\n",
    "        res = np.zeros(dim)\n",
    "        # argmax returns a single element vector, so get the scalar from it\n",
    "        largest = sess.run(tf.argmax(activation, 1), feed_dict = {X: pred})[0]\n",
    "        return np.eye(dim)[largest]\n",
    "    \n",
    "sample = train.sample(1)\n",
    "print \"Classified as %s\" % classify(sample[keys])"
   ]
  },
  {
   "cell_type": "markdown",
   "metadata": {},
   "source": [
    "## Skflow"
   ]
  },
  {
   "cell_type": "code",
   "execution_count": 96,
   "metadata": {
    "collapsed": false
   },
   "outputs": [
    {
     "name": "stdout",
     "output_type": "stream",
     "text": [
      "Step #1, avg. loss: 4.91489\n",
      "Step #51, epoch #12, avg. loss: 1.02452\n",
      "Step #101, epoch #25, avg. loss: 0.58497\n",
      "Step #151, epoch #37, avg. loss: 0.43115\n",
      "Step #201, epoch #50, avg. loss: 0.39415\n",
      "Step #251, epoch #62, avg. loss: 0.31821\n",
      "Step #301, epoch #75, avg. loss: 0.25476\n",
      "Step #351, epoch #87, avg. loss: 0.24791\n",
      "Step #401, epoch #100, avg. loss: 0.23674\n",
      "Step #451, epoch #112, avg. loss: 0.20667\n",
      "accuracy 1.0\n"
     ]
    }
   ],
   "source": [
    "from sklearn.metrics import accuracy_score\n",
    "\n",
    "X_train, X_test, y_train, y_test = train_test_split(load_iris().data, load_iris().target,\n",
    "    test_size=0.2, random_state=42)\n",
    "\n",
    "clf = skflow.TensorFlowClassifier(n_classes = 3, steps = 500)\n",
    "clf.fit(X_train, y_train)\n",
    "\n",
    "print 'accuracy', accuracy_score(y_test, clf.predict(X_test))"
   ]
  },
  {
   "cell_type": "code",
   "execution_count": null,
   "metadata": {
    "collapsed": false
   },
   "outputs": [],
   "source": []
  },
  {
   "cell_type": "code",
   "execution_count": null,
   "metadata": {
    "collapsed": true
   },
   "outputs": [],
   "source": []
  }
 ],
 "metadata": {
  "kernelspec": {
   "display_name": "Python 2",
   "language": "python",
   "name": "python2"
  },
  "language_info": {
   "codemirror_mode": {
    "name": "ipython",
    "version": 2
   },
   "file_extension": ".py",
   "mimetype": "text/x-python",
   "name": "python",
   "nbconvert_exporter": "python",
   "pygments_lexer": "ipython2",
   "version": "2.7.11"
  }
 },
 "nbformat": 4,
 "nbformat_minor": 0
}
