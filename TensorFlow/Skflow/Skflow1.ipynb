{
 "cells": [
  {
   "cell_type": "code",
   "execution_count": null,
   "metadata": {
    "collapsed": false
   },
   "outputs": [
    {
     "name": "stdout",
     "output_type": "stream",
     "text": [
      "Extracting MNIST_data/train-images-idx3-ubyte.gz\n",
      "Extracting MNIST_data/train-labels-idx1-ubyte.gz\n",
      "Extracting MNIST_data/t10k-images-idx3-ubyte.gz\n",
      "Extracting MNIST_data/t10k-labels-idx1-ubyte.gz\n",
      "Step #1, avg. loss: 2.64234\n",
      "Step #101, avg. loss: 1.90145\n",
      "Step #201, avg. loss: 1.36286\n",
      "Step #301, avg. loss: 1.10363\n",
      "Step #401, avg. loss: 0.95203\n",
      "Step #501, avg. loss: 0.85592\n",
      "Step #601, epoch #1, avg. loss: 0.78724\n",
      "Step #701, epoch #1, avg. loss: 0.73279\n",
      "Step #801, epoch #1, avg. loss: 0.70121\n",
      "Step #901, epoch #1, avg. loss: 0.65916\n",
      "Accuracy: 0.860700\n",
      "Step #1, avg. loss: 3.32872"
     ]
    }
   ],
   "source": [
    "from sklearn import metrics\n",
    "\n",
    "import tensorflow as tf\n",
    "from tensorflow.examples.tutorials.mnist import input_data\n",
    "\n",
    "import skflow\n",
    "\n",
    "### Download and load MNIST data.\n",
    "\n",
    "mnist = input_data.read_data_sets('MNIST_data')\n",
    "\n",
    "### Linear classifier.\n",
    "\n",
    "classifier = skflow.TensorFlowLinearClassifier(\n",
    "    n_classes=10, batch_size=100, steps=1000, learning_rate=0.01)\n",
    "classifier.fit(mnist.train.images, mnist.train.labels)\n",
    "score = metrics.accuracy_score(mnist.test.labels, classifier.predict(mnist.test.images))\n",
    "print('Accuracy: {0:f}'.format(score))\n",
    "\n",
    "### Convolutional network\n",
    "\n",
    "def max_pool_2x2(tensor_in):\n",
    "    return tf.nn.max_pool(tensor_in, ksize=[1, 2, 2, 1], strides=[1, 2, 2, 1],\n",
    "        padding='SAME')\n",
    "\n",
    "def conv_model(X, y):\n",
    "    # reshape X to 4d tensor with 2nd and 3rd dimensions being image width and height\n",
    "    # final dimension being the number of color channels\n",
    "    X = tf.reshape(X, [-1, 28, 28, 1])\n",
    "    # first conv layer will compute 32 features for each 5x5 patch\n",
    "    with tf.variable_scope('conv_layer1'):\n",
    "        h_conv1 = skflow.ops.conv2d(X, n_filters=32, filter_shape=[5, 5], \n",
    "                                    bias=True, activation=tf.nn.relu)\n",
    "        h_pool1 = max_pool_2x2(h_conv1)\n",
    "    # second conv layer will compute 64 features for each 5x5 patch\n",
    "    with tf.variable_scope('conv_layer2'):\n",
    "        h_conv2 = skflow.ops.conv2d(h_pool1, n_filters=64, filter_shape=[5, 5], \n",
    "                                    bias=True, activation=tf.nn.relu)\n",
    "        h_pool2 = max_pool_2x2(h_conv2)\n",
    "        # reshape tensor into a batch of vectors\n",
    "        h_pool2_flat = tf.reshape(h_pool2, [-1, 7 * 7 * 64])\n",
    "    # densely connected layer with 1024 neurons\n",
    "    h_fc1 = skflow.ops.dnn(h_pool2_flat, [1024], activation=tf.nn.relu, keep_prob=0.5)\n",
    "    return skflow.models.logistic_regression(h_fc1, y)\n",
    "\n",
    "# Training and predicting\n",
    "classifier = skflow.TensorFlowEstimator(\n",
    "    model_fn=conv_model, n_classes=10, batch_size=100, steps=20000,\n",
    "    learning_rate=0.001)\n",
    "classifier.fit(mnist.train.images, mnist.train.labels)\n",
    "score = metrics.accuracy_score(mnist.test.labels, classifier.predict(mnist.test.images))\n",
    "print('Accuracy: {0:f}'.format(score))"
   ]
  },
  {
   "cell_type": "code",
   "execution_count": null,
   "metadata": {
    "collapsed": true
   },
   "outputs": [],
   "source": []
  }
 ],
 "metadata": {
  "kernelspec": {
   "display_name": "Python 2",
   "language": "python",
   "name": "python2"
  },
  "language_info": {
   "codemirror_mode": {
    "name": "ipython",
    "version": 2
   },
   "file_extension": ".py",
   "mimetype": "text/x-python",
   "name": "python",
   "nbconvert_exporter": "python",
   "pygments_lexer": "ipython2",
   "version": "2.7.11"
  }
 },
 "nbformat": 4,
 "nbformat_minor": 0
}
