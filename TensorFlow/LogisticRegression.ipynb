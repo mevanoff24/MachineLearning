{
 "cells": [
  {
   "cell_type": "code",
   "execution_count": 2,
   "metadata": {
    "collapsed": false
   },
   "outputs": [
    {
     "name": "stdout",
     "output_type": "stream",
     "text": [
      "Successfully downloaded train-images-idx3-ubyte.gz 9912422 bytes.\n",
      "Extracting MNIST_data/train-images-idx3-ubyte.gz\n",
      "Successfully downloaded train-labels-idx1-ubyte.gz 28881 bytes.\n",
      "Extracting MNIST_data/train-labels-idx1-ubyte.gz\n",
      "Successfully downloaded t10k-images-idx3-ubyte.gz 1648877 bytes.\n",
      "Extracting MNIST_data/t10k-images-idx3-ubyte.gz\n",
      "Successfully downloaded t10k-labels-idx1-ubyte.gz 4542 bytes.\n",
      "Extracting MNIST_data/t10k-labels-idx1-ubyte.gz\n"
     ]
    }
   ],
   "source": [
    "import tensorflow as tf\n",
    "from tensorflow.examples.tutorials.mnist import input_data\n",
    "mnist = input_data.read_data_sets('MNIST_data', one_hot=True)"
   ]
  },
  {
   "cell_type": "code",
   "execution_count": 6,
   "metadata": {
    "collapsed": true
   },
   "outputs": [],
   "source": [
    "# create placeholders\n",
    "x = tf.placeholder('float', shape = [None, 784])\n",
    "y = tf.placeholder('float', shape = [None, 10])"
   ]
  },
  {
   "cell_type": "code",
   "execution_count": 7,
   "metadata": {
    "collapsed": true
   },
   "outputs": [],
   "source": [
    "# create variables\n",
    "W = tf.Variable(tf.zeros([784, 10]))\n",
    "b = tf.Variable(tf.zeros([10]))"
   ]
  },
  {
   "cell_type": "code",
   "execution_count": 8,
   "metadata": {
    "collapsed": false
   },
   "outputs": [],
   "source": [
    "# create model with softmax\n",
    "activation = tf.nn.softmax(tf.matmul(x, W) + b)"
   ]
  },
  {
   "cell_type": "code",
   "execution_count": 9,
   "metadata": {
    "collapsed": true
   },
   "outputs": [],
   "source": [
    "# cost function / cross entroy\n",
    "cost = -tf.reduce_mean(y * tf.log(activation))"
   ]
  },
  {
   "cell_type": "code",
   "execution_count": 10,
   "metadata": {
    "collapsed": true
   },
   "outputs": [],
   "source": [
    "# build model\n",
    "optimizer = tf.train.GradientDescentOptimizer(0.01).minimize(cost)"
   ]
  },
  {
   "cell_type": "code",
   "execution_count": 11,
   "metadata": {
    "collapsed": true
   },
   "outputs": [],
   "source": [
    "init = tf.initialize_all_variables()"
   ]
  },
  {
   "cell_type": "code",
   "execution_count": 14,
   "metadata": {
    "collapsed": false
   },
   "outputs": [
    {
     "name": "stdout",
     "output_type": "stream",
     "text": [
      "epoch: 1, cost: 0.204545236\n",
      "epoch: 2, cost: 0.165478335\n",
      "epoch: 3, cost: 0.139440900\n",
      "epoch: 4, cost: 0.121721622\n",
      "epoch: 5, cost: 0.109147103\n",
      "epoch: 6, cost: 0.099832824\n",
      "epoch: 7, cost: 0.092716282\n",
      "epoch: 8, cost: 0.087075849\n",
      "epoch: 9, cost: 0.082514923\n",
      "epoch: 10, cost: 0.078726683\n",
      "epoch: 11, cost: 0.075517261\n",
      "epoch: 12, cost: 0.072760431\n",
      "epoch: 13, cost: 0.070406100\n",
      "epoch: 14, cost: 0.068330220\n",
      "epoch: 15, cost: 0.066500291\n",
      "epoch: 16, cost: 0.064871962\n",
      "epoch: 17, cost: 0.063399397\n",
      "epoch: 18, cost: 0.062042695\n",
      "epoch: 19, cost: 0.060842227\n",
      "epoch: 20, cost: 0.059757933\n",
      "epoch: 21, cost: 0.058718178\n",
      "epoch: 22, cost: 0.057788352\n",
      "epoch: 23, cost: 0.056917611\n",
      "epoch: 24, cost: 0.056132251\n",
      "epoch: 25, cost: 0.055371591\n",
      "Finished~~\n",
      "0.8781\n"
     ]
    }
   ],
   "source": [
    "training_epochs = 25\n",
    "batch_size = 100\n",
    "\n",
    "with tf.Session() as sess:\n",
    "    \n",
    "    sess.run(init)\n",
    "    \n",
    "    for epoch in range(training_epochs):\n",
    "        avg_cost = 0.\n",
    "        total_batch = int(mnist.train.num_examples / batch_size)\n",
    "        \n",
    "        for i in range(total_batch):\n",
    "            batch_xs, batch_ys = mnist.train.next_batch(batch_size)\n",
    "            # fit\n",
    "            sess.run(optimizer, feed_dict = {x:batch_xs, y:batch_ys})\n",
    "            avg_cost += sess.run(cost, feed_dict = {x:batch_xs, y:batch_ys}) / total_batch\n",
    "        if epoch % 1 == 0:\n",
    "            print 'epoch: {}, cost: {:.9f}'.format(epoch + 1, avg_cost)\n",
    "    print \"Finished~~\"\n",
    "    \n",
    "    correct_prediction = tf.equal(tf.argmax(activation, 1), tf.argmax(y, 1))\n",
    "    accuracy = tf.reduce_mean(tf.cast(correct_prediction, 'float'))\n",
    "    print accuracy.eval({x: mnist.test.images, y: mnist.test.labels})\n",
    "        "
   ]
  },
  {
   "cell_type": "code",
   "execution_count": null,
   "metadata": {
    "collapsed": true
   },
   "outputs": [],
   "source": []
  }
 ],
 "metadata": {
  "kernelspec": {
   "display_name": "Python 2",
   "language": "python",
   "name": "python2"
  },
  "language_info": {
   "codemirror_mode": {
    "name": "ipython",
    "version": 2
   },
   "file_extension": ".py",
   "mimetype": "text/x-python",
   "name": "python",
   "nbconvert_exporter": "python",
   "pygments_lexer": "ipython2",
   "version": "2.7.11"
  }
 },
 "nbformat": 4,
 "nbformat_minor": 0
}
