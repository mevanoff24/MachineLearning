{
 "cells": [
  {
   "cell_type": "code",
   "execution_count": 1,
   "metadata": {
    "collapsed": false
   },
   "outputs": [
    {
     "name": "stdout",
     "output_type": "stream",
     "text": [
      "Extracting MNIST_data/train-images-idx3-ubyte.gz\n",
      "Extracting MNIST_data/train-labels-idx1-ubyte.gz\n",
      "Extracting MNIST_data/t10k-images-idx3-ubyte.gz\n",
      "Extracting MNIST_data/t10k-labels-idx1-ubyte.gz\n"
     ]
    }
   ],
   "source": [
    "import tensorflow as tf\n",
    "from tensorflow.examples.tutorials.mnist import input_data\n",
    "mnist = input_data.read_data_sets('MNIST_data', one_hot=True)"
   ]
  },
  {
   "cell_type": "code",
   "execution_count": 43,
   "metadata": {
    "collapsed": true
   },
   "outputs": [],
   "source": [
    "n_input = 784\n",
    "n_classes = 10\n",
    "\n",
    "# graph inputs\n",
    "x = tf.placeholder(tf.float32, [None, n_input])\n",
    "y = tf.placeholder(tf.float32, [None, n_classes])\n",
    "keep_prob = tf.placeholder(tf.float32) #dropout (keep probability)"
   ]
  },
  {
   "cell_type": "code",
   "execution_count": 44,
   "metadata": {
    "collapsed": true
   },
   "outputs": [],
   "source": [
    "def conv2d(img, w, b):\n",
    "    return tf.nn.relu(tf.nn.bias_add(tf.nn.conv2d(img, w, strides=[1, 1, 1, 1], \n",
    "                                                  padding='SAME'),b))\n",
    "\n",
    "def max_pool(img, k):\n",
    "    return tf.nn.max_pool(img, ksize=[1, k, k, 1], strides=[1, k, k, 1], padding='SAME')\n",
    "\n",
    "def conv_net(_X, _weights, _biases, _dropout):\n",
    "    # Reshape input picture\n",
    "    _X = tf.reshape(_X, shape=[-1, 28, 28, 1])\n",
    "\n",
    "    # Convolution Layer\n",
    "    conv1 = conv2d(_X, _weights['wc1'], _biases['bc1'])\n",
    "    # Max Pooling (down-sampling)\n",
    "    conv1 = max_pool(conv1, k=2)\n",
    "    # Apply Dropout\n",
    "    conv1 = tf.nn.dropout(conv1, _dropout)\n",
    "\n",
    "    # Convolution Layer\n",
    "    conv2 = conv2d(conv1, _weights['wc2'], _biases['bc2'])\n",
    "    # Max Pooling (down-sampling)\n",
    "    conv2 = max_pool(conv2, k=2)\n",
    "    # Apply Dropout\n",
    "    conv2 = tf.nn.dropout(conv2, _dropout)\n",
    "\n",
    "    # Fully connected layer\n",
    "    # Reshape conv2 output to fit dense layer input\n",
    "    dense1 = tf.reshape(conv2, [-1, _weights['wd1'].get_shape().as_list()[0]]) \n",
    "    # Relu activation\n",
    "    dense1 = tf.nn.relu(tf.add(tf.matmul(dense1, _weights['wd1']), _biases['bd1']))\n",
    "    # Apply Dropout\n",
    "    dense1 = tf.nn.dropout(dense1, _dropout) # Apply Dropout\n",
    "\n",
    "    # Output, class prediction\n",
    "    out = tf.add(tf.matmul(dense1, _weights['out']), _biases['out'])\n",
    "    return out"
   ]
  },
  {
   "cell_type": "code",
   "execution_count": 45,
   "metadata": {
    "collapsed": true
   },
   "outputs": [],
   "source": [
    "# Store layers / weights\n",
    "\n",
    "weights = {\n",
    "    # 5x5 conv, 1 input, 32 outputs\n",
    "    'wc1' : tf.Variable(tf.random_normal([5, 5, 1, 32])),\n",
    "    # 5x5 conv, 32 inputs, 64 outputs\n",
    "    'wc2' : tf.Variable(tf.random_normal([5, 5, 32, 64])),\n",
    "    # fully connected, 7*7*64 inputs, 1024 outputs\n",
    "    'wd1' : tf.Variable(tf.random_normal([7*7*64, 1024])),\n",
    "    # 1024 inputs, 10 outputs (class prediction)\n",
    "    'out' : tf.Variable(tf.random_normal([1024, n_classes]))\n",
    "}\n",
    "\n",
    "bias = {\n",
    "    'bc1' : tf.Variable(tf.random_normal([32])),\n",
    "    'bc2' : tf.Variable(tf.random_normal([64])),\n",
    "    'bd1' : tf.Variable(tf.random_normal([1024])),\n",
    "    'out' : tf.Variable(tf.random_normal([n_classes]))\n",
    "}"
   ]
  },
  {
   "cell_type": "code",
   "execution_count": 46,
   "metadata": {
    "collapsed": false
   },
   "outputs": [],
   "source": [
    "# create model \n",
    "pred = conv_net(x, weights, bias, keep_prob)"
   ]
  },
  {
   "cell_type": "code",
   "execution_count": 47,
   "metadata": {
    "collapsed": false
   },
   "outputs": [],
   "source": [
    "# define cost\n",
    "cost = tf.reduce_mean(tf.nn.softmax_cross_entropy_with_logits(pred, y))\n",
    "# define opt\n",
    "optimizer = tf.train.AdamOptimizer(learning_rate = 0.001).minimize(cost)"
   ]
  },
  {
   "cell_type": "code",
   "execution_count": 48,
   "metadata": {
    "collapsed": true
   },
   "outputs": [],
   "source": [
    "# eval model\n",
    "correct_pred = tf.equal(tf.argmax(pred,1), tf.argmax(y,1))\n",
    "accuracy = tf.reduce_mean(tf.cast(correct_pred, tf.float32)) "
   ]
  },
  {
   "cell_type": "code",
   "execution_count": 49,
   "metadata": {
    "collapsed": true
   },
   "outputs": [],
   "source": [
    "init = tf.initialize_all_variables()"
   ]
  },
  {
   "cell_type": "code",
   "execution_count": 50,
   "metadata": {
    "collapsed": false
   },
   "outputs": [
    {
     "name": "stdout",
     "output_type": "stream",
     "text": [
      "Iter 2560, Minibatch Loss= 17224.035156, Training Accuracy= 0.24219\n",
      "Iter 5120, Minibatch Loss= 7003.300781, Training Accuracy= 0.59375\n",
      "Iter 7680, Minibatch Loss= 5093.353516, Training Accuracy= 0.69531\n",
      "Iter 10240, Minibatch Loss= 5800.869141, Training Accuracy= 0.68750\n",
      "Iter 12800, Minibatch Loss= 3107.093750, Training Accuracy= 0.78906\n",
      "Iter 15360, Minibatch Loss= 3744.595459, Training Accuracy= 0.75000\n",
      "Iter 17920, Minibatch Loss= 3413.699951, Training Accuracy= 0.80469\n",
      "Iter 20480, Minibatch Loss= 1306.788818, Training Accuracy= 0.89062\n",
      "Iter 23040, Minibatch Loss= 3445.354248, Training Accuracy= 0.84375\n",
      "Iter 25600, Minibatch Loss= 2773.633789, Training Accuracy= 0.89844\n",
      "Iter 28160, Minibatch Loss= 1951.109497, Training Accuracy= 0.83594\n",
      "Iter 30720, Minibatch Loss= 836.203552, Training Accuracy= 0.92969\n",
      "Iter 33280, Minibatch Loss= 430.026550, Training Accuracy= 0.94531\n",
      "Iter 35840, Minibatch Loss= 1913.869385, Training Accuracy= 0.85938\n",
      "Iter 38400, Minibatch Loss= 1093.579346, Training Accuracy= 0.92188\n",
      "Iter 40960, Minibatch Loss= 705.004272, Training Accuracy= 0.92969\n",
      "Iter 43520, Minibatch Loss= 1001.332581, Training Accuracy= 0.85156\n",
      "Iter 46080, Minibatch Loss= 495.686218, Training Accuracy= 0.96875\n",
      "Iter 48640, Minibatch Loss= 697.914307, Training Accuracy= 0.92969\n",
      "Iter 51200, Minibatch Loss= 564.693359, Training Accuracy= 0.94531\n",
      "Iter 53760, Minibatch Loss= 2120.208252, Training Accuracy= 0.83594\n",
      "Iter 56320, Minibatch Loss= 448.045532, Training Accuracy= 0.95312\n",
      "Iter 58880, Minibatch Loss= 562.682617, Training Accuracy= 0.92969\n",
      "Iter 61440, Minibatch Loss= 924.040649, Training Accuracy= 0.91406\n",
      "Iter 64000, Minibatch Loss= 370.242859, Training Accuracy= 0.93750\n",
      "Iter 66560, Minibatch Loss= 1000.275635, Training Accuracy= 0.91406\n",
      "Iter 69120, Minibatch Loss= 1309.455566, Training Accuracy= 0.88281\n",
      "Iter 71680, Minibatch Loss= 696.380066, Training Accuracy= 0.90625\n",
      "Iter 74240, Minibatch Loss= 962.428528, Training Accuracy= 0.90625\n",
      "Iter 76800, Minibatch Loss= 642.460938, Training Accuracy= 0.92188\n",
      "Iter 79360, Minibatch Loss= 503.881439, Training Accuracy= 0.92188\n",
      "Iter 81920, Minibatch Loss= 270.373444, Training Accuracy= 0.96094\n",
      "Iter 84480, Minibatch Loss= 429.242249, Training Accuracy= 0.94531\n",
      "Iter 87040, Minibatch Loss= 244.268250, Training Accuracy= 0.96094\n",
      "Iter 89600, Minibatch Loss= 702.305908, Training Accuracy= 0.92188\n",
      "Iter 92160, Minibatch Loss= 538.827332, Training Accuracy= 0.94531\n",
      "Iter 94720, Minibatch Loss= 438.650421, Training Accuracy= 0.93750\n",
      "Iter 97280, Minibatch Loss= 254.799774, Training Accuracy= 0.94531\n",
      "Iter 99840, Minibatch Loss= 738.889221, Training Accuracy= 0.92969\n",
      "Optimization Finished!\n",
      "Testing Accuracy: 0.953125\n"
     ]
    }
   ],
   "source": [
    "batch_size = 128\n",
    "training_iters = 100000\n",
    "dropout = .75\n",
    "\n",
    "with tf.Session() as sess:\n",
    "    sess.run(init)\n",
    "    step = 1\n",
    "    # Keep training until reach max iterations\n",
    "    while step * batch_size < training_iters:\n",
    "        batch_xs, batch_ys = mnist.train.next_batch(batch_size)\n",
    "        # fit\n",
    "        sess.run(optimizer, feed_dict = {x: batch_xs, y: batch_ys, keep_prob: dropout})\n",
    "        # print \n",
    "        if step % 20 == 0:\n",
    "            # calculate accuracy\n",
    "            acc = sess.run(accuracy, feed_dict = {x: batch_xs, y: batch_ys, keep_prob: 1.})\n",
    "            # calculate batch loss\n",
    "            loss = sess.run(cost, feed_dict = {x: batch_xs, y: batch_ys, keep_prob: 1.})\n",
    "            print \"Iter \" + str(step*batch_size) + \", Minibatch Loss= \" + \\\n",
    "                  \"{:.6f}\".format(loss) + \", Training Accuracy= \" + \"{:.5f}\".format(acc)\n",
    "        step += 1\n",
    "        \n",
    "    print \"Optimization Finished!\"\n",
    "    # Calculate accuracy for 256 mnist test images\n",
    "    print \"Testing Accuracy:\", sess.run(accuracy, feed_dict = {x: mnist.test.images[:256],\n",
    "                                                               y: mnist.test.labels[:256],\n",
    "                                                               keep_prob: 1.})\n",
    "        "
   ]
  },
  {
   "cell_type": "code",
   "execution_count": null,
   "metadata": {
    "collapsed": true
   },
   "outputs": [],
   "source": []
  }
 ],
 "metadata": {
  "kernelspec": {
   "display_name": "Python 2",
   "language": "python",
   "name": "python2"
  },
  "language_info": {
   "codemirror_mode": {
    "name": "ipython",
    "version": 2
   },
   "file_extension": ".py",
   "mimetype": "text/x-python",
   "name": "python",
   "nbconvert_exporter": "python",
   "pygments_lexer": "ipython2",
   "version": "2.7.11"
  }
 },
 "nbformat": 4,
 "nbformat_minor": 0
}
