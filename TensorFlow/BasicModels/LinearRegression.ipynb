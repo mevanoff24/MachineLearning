{
 "cells": [
  {
   "cell_type": "markdown",
   "metadata": {},
   "source": [
    "# Linear Regression"
   ]
  },
  {
   "cell_type": "code",
   "execution_count": 1,
   "metadata": {
    "collapsed": true
   },
   "outputs": [],
   "source": [
    "import numpy as np\n",
    "import tensorflow as tf\n",
    "import matplotlib.pyplot as plt\n",
    "%matplotlib inline"
   ]
  },
  {
   "cell_type": "code",
   "execution_count": 2,
   "metadata": {
    "collapsed": true
   },
   "outputs": [],
   "source": [
    "# set up data\n",
    "X_train = np.asarray([3.3,4.4,5.5,6.71,6.93,4.168,9.779,6.182,7.59,2.167,7.042,10.791,5.313,7.997,5.654,9.27,3.1])\n",
    "y_train = np.asarray([1.7,2.76,2.09,3.19,1.694,1.573,3.366,2.596,2.53,1.221,2.827,3.465,1.65,2.904,2.42,2.94,1.3])\n",
    "n_samples = X_train.shape[0]"
   ]
  },
  {
   "cell_type": "code",
   "execution_count": 5,
   "metadata": {
    "collapsed": false
   },
   "outputs": [
    {
     "data": {
      "image/png": "[encoded data removed]",
      "text/plain": [
       "<matplotlib.figure.Figure at 0x10a1501d0>"
      ]
     },
     "metadata": {},
     "output_type": "display_data"
    }
   ],
   "source": [
    "plt.plot(X_train, y_train, 'o')\n",
    "plt.show()"
   ]
  },
  {
   "cell_type": "code",
   "execution_count": 30,
   "metadata": {
    "collapsed": true
   },
   "outputs": [],
   "source": [
    "# Tensorflow Stuff\n",
    "X = tf.placeholder(\"float\")\n",
    "Y = tf.placeholder(\"float\")"
   ]
  },
  {
   "cell_type": "code",
   "execution_count": 31,
   "metadata": {
    "collapsed": true
   },
   "outputs": [],
   "source": [
    "# set model weights\n",
    "W = tf.Variable(np.random.randn(), name=\"weight\")\n",
    "b = tf.Variable(np.random.randn(), name=\"bias\")"
   ]
  },
  {
   "cell_type": "code",
   "execution_count": 32,
   "metadata": {
    "collapsed": false
   },
   "outputs": [],
   "source": [
    "# create model\n",
    "activation = tf.add(tf.mul(X, W), b)"
   ]
  },
  {
   "cell_type": "code",
   "execution_count": 33,
   "metadata": {
    "collapsed": false
   },
   "outputs": [],
   "source": [
    "# cost function / minimize squared errors\n",
    "cost = tf.reduce_sum(tf.pow(activation - Y, 2))/(2*n_samples)"
   ]
  },
  {
   "cell_type": "code",
   "execution_count": 34,
   "metadata": {
    "collapsed": true
   },
   "outputs": [],
   "source": [
    "# create train model with Gradient Descent\n",
    "learning_rate = 0.01\n",
    "\n",
    "optimizer = tf.train.GradientDescentOptimizer(learning_rate).minimize(cost)"
   ]
  },
  {
   "cell_type": "code",
   "execution_count": 35,
   "metadata": {
    "collapsed": true
   },
   "outputs": [],
   "source": [
    "# init all variables\n",
    "init = tf.initialize_all_variables()"
   ]
  },
  {
   "cell_type": "code",
   "execution_count": 41,
   "metadata": {
    "collapsed": false
   },
   "outputs": [
    {
     "name": "stdout",
     "output_type": "stream",
     "text": [
      "Epoch: 0001 cost= 3.412170649 W= 0.503328 b= 1.74561\n",
      "Epoch: 0051 cost= 0.120609127 W= 0.133192 b= 1.63885\n",
      "Epoch: 0101 cost= 0.115584515 W= 0.140116 b= 1.58904\n",
      "Epoch: 0151 cost= 0.111139536 W= 0.146627 b= 1.5422\n",
      "Epoch: 0201 cost= 0.107207060 W= 0.15275 b= 1.49815\n",
      "Epoch: 0251 cost= 0.103727996 W= 0.15851 b= 1.45672\n",
      "Epoch: 0301 cost= 0.100649826 W= 0.163927 b= 1.41775\n",
      "Epoch: 0351 cost= 0.097926408 W= 0.169022 b= 1.38109\n",
      "Epoch: 0401 cost= 0.095516786 W= 0.173814 b= 1.34662\n",
      "Epoch: 0451 cost= 0.093384989 W= 0.178321 b= 1.3142\n",
      "Epoch: 0501 cost= 0.091498785 W= 0.18256 b= 1.2837\n",
      "Epoch: 0551 cost= 0.089829870 W= 0.186547 b= 1.25502\n",
      "Epoch: 0601 cost= 0.088353232 W= 0.190297 b= 1.22804\n",
      "Epoch: 0651 cost= 0.087046854 W= 0.193824 b= 1.20267\n",
      "Epoch: 0701 cost= 0.085891023 W= 0.19714 b= 1.17881\n",
      "Epoch: 0751 cost= 0.084868252 W= 0.20026 b= 1.15637\n",
      "Epoch: 0801 cost= 0.083963245 W= 0.203194 b= 1.13526\n",
      "Epoch: 0851 cost= 0.083162449 W= 0.205953 b= 1.11541\n",
      "Epoch: 0901 cost= 0.082453817 W= 0.208549 b= 1.09674\n",
      "Epoch: 0951 cost= 0.081826746 W= 0.21099 b= 1.07918\n",
      "Epoch: 1001 cost= 0.081271850 W= 0.213286 b= 1.06266\n",
      "Epoch: 1051 cost= 0.080780774 W= 0.215445 b= 1.04713\n",
      "Epoch: 1101 cost= 0.080346167 W= 0.217476 b= 1.03252\n",
      "Epoch: 1151 cost= 0.079961613 W= 0.219386 b= 1.01877\n",
      "Epoch: 1201 cost= 0.079621263 W= 0.221183 b= 1.00585\n",
      "Epoch: 1251 cost= 0.079320058 W= 0.222873 b= 0.993695\n",
      "Epoch: 1301 cost= 0.079053447 W= 0.224462 b= 0.982262\n",
      "Epoch: 1351 cost= 0.078817479 W= 0.225957 b= 0.971508\n",
      "Epoch: 1401 cost= 0.078608572 W= 0.227363 b= 0.961393\n",
      "Epoch: 1451 cost= 0.078423731 W= 0.228685 b= 0.951882\n",
      "Epoch: 1501 cost= 0.078260124 W= 0.229928 b= 0.942937\n",
      "Epoch: 1551 cost= 0.078115262 W= 0.231098 b= 0.934525\n",
      "Epoch: 1601 cost= 0.077987053 W= 0.232198 b= 0.926612\n",
      "Epoch: 1651 cost= 0.077873528 W= 0.233232 b= 0.91917\n",
      "Epoch: 1701 cost= 0.077773035 W= 0.234205 b= 0.912171\n",
      "Epoch: 1751 cost= 0.077684045 W= 0.23512 b= 0.905587\n",
      "Epoch: 1801 cost= 0.077605240 W= 0.235981 b= 0.899395\n",
      "Epoch: 1851 cost= 0.077535458 W= 0.23679 b= 0.893571\n",
      "Epoch: 1901 cost= 0.077473685 W= 0.237552 b= 0.888094\n",
      "Epoch: 1951 cost= 0.077418961 W= 0.238268 b= 0.882942\n",
      "Optimization Finished!\n",
      "cost= 0.0773714 W= 0.238928 b= 0.878191\n"
     ]
    },
    {
     "data": {
      "image/png": "[encoded data removed]",
      "text/plain": [
       "<matplotlib.figure.Figure at 0x10ac36650>"
      ]
     },
     "metadata": {},
     "output_type": "display_data"
    }
   ],
   "source": [
    "# launch\n",
    "training_epochs = 2000\n",
    "\n",
    "with tf.Session() as sess:\n",
    "    sess.run(init)\n",
    "\n",
    "    # Fit all training data\n",
    "    for epoch in range(training_epochs):\n",
    "        for (x, y) in zip(X_train, y_train):\n",
    "            sess.run(optimizer, feed_dict={X: x, Y: y})\n",
    "\n",
    "        #Display logs per epoch step\n",
    "        if epoch % 50 == 0:\n",
    "            print \"Epoch:\", '%04d' % (epoch+1), \"cost=\", \\\n",
    "                \"{:.9f}\".format(sess.run(cost, feed_dict={X: X_train, Y: y_train})), \\\n",
    "                \"W=\", sess.run(W), \"b=\", sess.run(b)\n",
    "\n",
    "    print \"Optimization Finished!\"\n",
    "    print \"cost=\", sess.run(cost, feed_dict={X: X_train, Y: y_train}), \\\n",
    "          \"W=\", sess.run(W), \"b=\", sess.run(b)\n",
    "    \n",
    "    plt.plot(X_train, y_train, 'o')\n",
    "    plt.plot(X_train, sess.run(W) * X_train + sess.run(b), label='Fitted line')\n",
    "    plt.legend()\n",
    "    plt.show()"
   ]
  },
  {
   "cell_type": "code",
   "execution_count": null,
   "metadata": {
    "collapsed": true
   },
   "outputs": [],
   "source": []
  }
 ],
 "metadata": {
  "kernelspec": {
   "display_name": "Python 2",
   "language": "python",
   "name": "python2"
  },
  "language_info": {
   "codemirror_mode": {
    "name": "ipython",
    "version": 2
   },
   "file_extension": ".py",
   "mimetype": "text/x-python",
   "name": "python",
   "nbconvert_exporter": "python",
   "pygments_lexer": "ipython2",
   "version": "2.7.11"
  }
 },
 "nbformat": 4,
 "nbformat_minor": 0
}
