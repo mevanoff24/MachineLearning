{
 "cells": [
  {
   "cell_type": "markdown",
   "metadata": {},
   "source": [
    "# Linear Regression"
   ]
  },
  {
   "cell_type": "code",
   "execution_count": 1,
   "metadata": {
    "collapsed": true
   },
   "outputs": [],
   "source": [
    "import numpy as np\n",
    "import tensorflow as tf\n",
    "import matplotlib.pyplot as plt\n",
    "%matplotlib inline"
   ]
  },
  {
   "cell_type": "code",
   "execution_count": 2,
   "metadata": {
    "collapsed": true
   },
   "outputs": [],
   "source": [
    "# set up data\n",
    "X_train = np.asarray([3.3,4.4,5.5,6.71,6.93,4.168,9.779,6.182,7.59,2.167,7.042,10.791,5.313,7.997,5.654,9.27,3.1])\n",
    "y_train = np.asarray([1.7,2.76,2.09,3.19,1.694,1.573,3.366,2.596,2.53,1.221,2.827,3.465,1.65,2.904,2.42,2.94,1.3])\n",
    "n_samples = X_train.shape[0]"
   ]
  },
  {
   "cell_type": "code",
   "execution_count": 3,
   "metadata": {
    "collapsed": false
   },
   "outputs": [
    {
     "data": {
      "image/png": "[encoded data removed]",
      "text/plain": [
       "<matplotlib.figure.Figure at 0x10962a2d0>"
      ]
     },
     "metadata": {},
     "output_type": "display_data"
    }
   ],
   "source": [
    "plt.plot(X_train, y_train, 'o')\n",
    "plt.show()"
   ]
  },
  {
   "cell_type": "code",
   "execution_count": 4,
   "metadata": {
    "collapsed": true
   },
   "outputs": [],
   "source": [
    "# Tensorflow Stuff\n",
    "X = tf.placeholder(\"float\")\n",
    "Y = tf.placeholder(\"float\")"
   ]
  },
  {
   "cell_type": "code",
   "execution_count": 5,
   "metadata": {
    "collapsed": true
   },
   "outputs": [],
   "source": [
    "# set model weights\n",
    "W = tf.Variable(np.random.randn(), name=\"weight\")\n",
    "b = tf.Variable(np.random.randn(), name=\"bias\")"
   ]
  },
  {
   "cell_type": "code",
   "execution_count": 6,
   "metadata": {
    "collapsed": false
   },
   "outputs": [],
   "source": [
    "# create model\n",
    "activation = tf.add(tf.mul(X, W), b)"
   ]
  },
  {
   "cell_type": "code",
   "execution_count": 7,
   "metadata": {
    "collapsed": false
   },
   "outputs": [],
   "source": [
    "# cost function / minimize squared errors\n",
    "cost = tf.reduce_sum(tf.pow(activation - Y, 2))/(2*n_samples)"
   ]
  },
  {
   "cell_type": "code",
   "execution_count": 8,
   "metadata": {
    "collapsed": true
   },
   "outputs": [],
   "source": [
    "# create train model with Gradient Descent\n",
    "learning_rate = 0.01\n",
    "\n",
    "optimizer = tf.train.GradientDescentOptimizer(learning_rate).minimize(cost)"
   ]
  },
  {
   "cell_type": "code",
   "execution_count": 9,
   "metadata": {
    "collapsed": true
   },
   "outputs": [],
   "source": [
    "# init all variables\n",
    "init = tf.initialize_all_variables()"
   ]
  },
  {
   "cell_type": "code",
   "execution_count": 10,
   "metadata": {
    "collapsed": false
   },
   "outputs": [
    {
     "name": "stdout",
     "output_type": "stream",
     "text": [
      "Epoch: 0001 cost= 6.057812214 W= 0.92961 b= -0.351507\n",
      "Epoch: 0051 cost= 0.159077212 W= 0.409829 b= -0.351252\n",
      "Epoch: 0101 cost= 0.149590045 W= 0.400299 b= -0.282695\n",
      "Epoch: 0151 cost= 0.141198605 W= 0.391335 b= -0.218214\n",
      "Epoch: 0201 cost= 0.133776426 W= 0.382905 b= -0.157569\n",
      "Epoch: 0251 cost= 0.127211511 W= 0.374977 b= -0.100531\n",
      "Epoch: 0301 cost= 0.121404998 W= 0.367519 b= -0.0468848\n",
      "Epoch: 0351 cost= 0.116269171 W= 0.360506 b= 0.00357076\n",
      "Epoch: 0401 cost= 0.111726716 W= 0.353909 b= 0.0510255\n",
      "Epoch: 0451 cost= 0.107709020 W= 0.347705 b= 0.0956578\n",
      "Epoch: 0501 cost= 0.104155600 W= 0.34187 b= 0.137635\n",
      "Epoch: 0551 cost= 0.101012729 W= 0.336382 b= 0.177117\n",
      "Epoch: 0601 cost= 0.098233066 W= 0.33122 b= 0.21425\n",
      "Epoch: 0651 cost= 0.095774621 W= 0.326366 b= 0.249174\n",
      "Epoch: 0701 cost= 0.093600333 W= 0.321799 b= 0.282022\n",
      "Epoch: 0751 cost= 0.091677316 W= 0.317505 b= 0.312916\n",
      "Epoch: 0801 cost= 0.089976706 W= 0.313466 b= 0.341972\n",
      "Epoch: 0851 cost= 0.088472635 W= 0.309667 b= 0.3693\n",
      "Epoch: 0901 cost= 0.087142438 W= 0.306094 b= 0.395004\n",
      "Epoch: 0951 cost= 0.085966103 W= 0.302734 b= 0.419177\n",
      "Epoch: 1001 cost= 0.084925808 W= 0.299574 b= 0.441914\n",
      "Epoch: 1051 cost= 0.084005855 W= 0.296601 b= 0.463298\n",
      "Epoch: 1101 cost= 0.083192267 W= 0.293805 b= 0.483411\n",
      "Epoch: 1151 cost= 0.082472883 W= 0.291176 b= 0.502327\n",
      "Epoch: 1201 cost= 0.081836693 W= 0.288703 b= 0.520118\n",
      "Epoch: 1251 cost= 0.081274152 W= 0.286377 b= 0.536851\n",
      "Epoch: 1301 cost= 0.080776736 W= 0.284189 b= 0.552589\n",
      "Epoch: 1351 cost= 0.080336891 W= 0.282131 b= 0.567392\n",
      "Epoch: 1401 cost= 0.079947926 W= 0.280196 b= 0.581314\n",
      "Epoch: 1451 cost= 0.079604052 W= 0.278376 b= 0.594409\n",
      "Epoch: 1501 cost= 0.079300016 W= 0.276664 b= 0.606726\n",
      "Epoch: 1551 cost= 0.079031199 W= 0.275054 b= 0.618308\n",
      "Epoch: 1601 cost= 0.078793630 W= 0.27354 b= 0.629201\n",
      "Epoch: 1651 cost= 0.078583568 W= 0.272116 b= 0.639445\n",
      "Epoch: 1701 cost= 0.078397892 W= 0.270776 b= 0.64908\n",
      "Epoch: 1751 cost= 0.078233741 W= 0.269517 b= 0.658142\n",
      "Epoch: 1801 cost= 0.078088641 W= 0.268332 b= 0.666666\n",
      "Epoch: 1851 cost= 0.077960372 W= 0.267217 b= 0.674683\n",
      "Epoch: 1901 cost= 0.077846989 W= 0.266169 b= 0.682223\n",
      "Epoch: 1951 cost= 0.077746801 W= 0.265183 b= 0.689314\n",
      "Optimization Finished!\n",
      "cost= 0.0776599 W= 0.264274 b= 0.695855\n"
     ]
    },
    {
     "data": {
      "image/png": "[encoded data removed]",
      "text/plain": [
       "<matplotlib.figure.Figure at 0x109702d50>"
      ]
     },
     "metadata": {},
     "output_type": "display_data"
    }
   ],
   "source": [
    "# launch\n",
    "training_epochs = 2000\n",
    "\n",
    "with tf.Session() as sess:\n",
    "    sess.run(init)\n",
    "\n",
    "    # Fit all training data\n",
    "    for epoch in range(training_epochs):\n",
    "        for (x, y) in zip(X_train, y_train):\n",
    "            sess.run(optimizer, feed_dict={X: x, Y: y})\n",
    "\n",
    "        #Display logs per epoch step\n",
    "        if epoch % 50 == 0:\n",
    "            print \"Epoch:\", '%04d' % (epoch+1), \"cost=\", \\\n",
    "                \"{:.9f}\".format(sess.run(cost, feed_dict={X: X_train, Y: y_train})), \\\n",
    "                \"W=\", sess.run(W), \"b=\", sess.run(b)\n",
    "\n",
    "    print \"Optimization Finished!\"\n",
    "    print \"cost=\", sess.run(cost, feed_dict={X: X_train, Y: y_train}), \\\n",
    "          \"W=\", sess.run(W), \"b=\", sess.run(b)\n",
    "    \n",
    "    plt.plot(X_train, y_train, 'o')\n",
    "    plt.plot(X_train, sess.run(W) * X_train + sess.run(b), label='Fitted line')\n",
    "    plt.legend()\n",
    "    plt.show()"
   ]
  },
  {
   "cell_type": "code",
   "execution_count": null,
   "metadata": {
    "collapsed": true
   },
   "outputs": [],
   "source": []
  }
 ],
 "metadata": {
  "kernelspec": {
   "display_name": "Python 2",
   "language": "python",
   "name": "python2"
  },
  "language_info": {
   "codemirror_mode": {
    "name": "ipython",
    "version": 2
   },
   "file_extension": ".py",
   "mimetype": "text/x-python",
   "name": "python",
   "nbconvert_exporter": "python",
   "pygments_lexer": "ipython2",
   "version": "2.7.11"
  }
 },
 "nbformat": 4,
 "nbformat_minor": 0
}
